{
 "cells": [
  {
   "cell_type": "code",
   "execution_count": 11,
   "metadata": {},
   "outputs": [
    {
     "name": "stdout",
     "output_type": "stream",
     "text": [
      "connection status True\n",
      "18147\n"
     ]
    },
    {
     "ename": "ValueError",
     "evalue": "{'code': -32000, 'message': 'already known'}",
     "output_type": "error",
     "traceback": [
      "\u001b[1;31m---------------------------------------------------------------------------\u001b[0m",
      "\u001b[1;31mValueError\u001b[0m                                Traceback (most recent call last)",
      "Cell \u001b[1;32mIn[11], line 39\u001b[0m\n\u001b[0;32m     31\u001b[0m transaction \u001b[39m=\u001b[39m function\u001b[39m.\u001b[39mbuildTransaction({\n\u001b[0;32m     32\u001b[0m     \u001b[39m'\u001b[39m\u001b[39mfrom\u001b[39m\u001b[39m'\u001b[39m: account\u001b[39m.\u001b[39maddress,\n\u001b[0;32m     33\u001b[0m     \u001b[39m'\u001b[39m\u001b[39mgas\u001b[39m\u001b[39m'\u001b[39m: \u001b[39m300000\u001b[39m,\n\u001b[1;32m   (...)\u001b[0m\n\u001b[0;32m     36\u001b[0m     \u001b[39m'\u001b[39m\u001b[39mchainId\u001b[39m\u001b[39m'\u001b[39m: \u001b[39m80001\u001b[39m\n\u001b[0;32m     37\u001b[0m })\n\u001b[0;32m     38\u001b[0m signed_transaction \u001b[39m=\u001b[39m account\u001b[39m.\u001b[39msignTransaction(transaction)\n\u001b[1;32m---> 39\u001b[0m transaction_hash \u001b[39m=\u001b[39m web3_\u001b[39m.\u001b[39;49meth\u001b[39m.\u001b[39;49msendRawTransaction(signed_transaction\u001b[39m.\u001b[39;49mrawTransaction)\n\u001b[0;32m     40\u001b[0m tx_receipt \u001b[39m=\u001b[39m web3_\u001b[39m.\u001b[39meth\u001b[39m.\u001b[39mwaitForTransactionReceipt(transaction_hash)\n\u001b[0;32m     41\u001b[0m \u001b[39mprint\u001b[39m(tx_receipt)\n",
      "File \u001b[1;32m~\\AppData\\Roaming\\Python\\Python310\\site-packages\\web3\\eth.py:831\u001b[0m, in \u001b[0;36mEth.send_raw_transaction\u001b[1;34m(self, transaction)\u001b[0m\n\u001b[0;32m    830\u001b[0m \u001b[39mdef\u001b[39;00m \u001b[39msend_raw_transaction\u001b[39m(\u001b[39mself\u001b[39m, transaction: Union[HexStr, \u001b[39mbytes\u001b[39m]) \u001b[39m-\u001b[39m\u001b[39m>\u001b[39m HexBytes:\n\u001b[1;32m--> 831\u001b[0m     \u001b[39mreturn\u001b[39;00m \u001b[39mself\u001b[39;49m\u001b[39m.\u001b[39;49m_send_raw_transaction(transaction)\n",
      "File \u001b[1;32m~\\AppData\\Roaming\\Python\\Python310\\site-packages\\web3\\module.py:57\u001b[0m, in \u001b[0;36mretrieve_blocking_method_call_fn.<locals>.caller\u001b[1;34m(*args, **kwargs)\u001b[0m\n\u001b[0;32m     55\u001b[0m     \u001b[39mreturn\u001b[39;00m LogFilter(eth_module\u001b[39m=\u001b[39mmodule, filter_id\u001b[39m=\u001b[39merr\u001b[39m.\u001b[39mfilter_id)\n\u001b[0;32m     56\u001b[0m result_formatters, error_formatters, null_result_formatters \u001b[39m=\u001b[39m response_formatters\n\u001b[1;32m---> 57\u001b[0m result \u001b[39m=\u001b[39m w3\u001b[39m.\u001b[39;49mmanager\u001b[39m.\u001b[39;49mrequest_blocking(method_str,\n\u001b[0;32m     58\u001b[0m                                      params,\n\u001b[0;32m     59\u001b[0m                                      error_formatters,\n\u001b[0;32m     60\u001b[0m                                      null_result_formatters)\n\u001b[0;32m     61\u001b[0m \u001b[39mreturn\u001b[39;00m apply_result_formatters(result_formatters, result)\n",
      "File \u001b[1;32m~\\AppData\\Roaming\\Python\\Python310\\site-packages\\web3\\manager.py:198\u001b[0m, in \u001b[0;36mRequestManager.request_blocking\u001b[1;34m(self, method, params, error_formatters, null_result_formatters)\u001b[0m\n\u001b[0;32m    194\u001b[0m \u001b[39m\"\"\"\u001b[39;00m\n\u001b[0;32m    195\u001b[0m \u001b[39mMake a synchronous request using the provider\u001b[39;00m\n\u001b[0;32m    196\u001b[0m \u001b[39m\"\"\"\u001b[39;00m\n\u001b[0;32m    197\u001b[0m response \u001b[39m=\u001b[39m \u001b[39mself\u001b[39m\u001b[39m.\u001b[39m_make_request(method, params)\n\u001b[1;32m--> 198\u001b[0m \u001b[39mreturn\u001b[39;00m \u001b[39mself\u001b[39;49m\u001b[39m.\u001b[39;49mformatted_response(response,\n\u001b[0;32m    199\u001b[0m                                params,\n\u001b[0;32m    200\u001b[0m                                error_formatters,\n\u001b[0;32m    201\u001b[0m                                null_result_formatters)\n",
      "File \u001b[1;32m~\\AppData\\Roaming\\Python\\Python310\\site-packages\\web3\\manager.py:171\u001b[0m, in \u001b[0;36mRequestManager.formatted_response\u001b[1;34m(response, params, error_formatters, null_result_formatters)\u001b[0m\n\u001b[0;32m    169\u001b[0m \u001b[39mif\u001b[39;00m \u001b[39m\"\u001b[39m\u001b[39merror\u001b[39m\u001b[39m\"\u001b[39m \u001b[39min\u001b[39;00m response:\n\u001b[0;32m    170\u001b[0m     apply_error_formatters(error_formatters, response)\n\u001b[1;32m--> 171\u001b[0m     \u001b[39mraise\u001b[39;00m \u001b[39mValueError\u001b[39;00m(response[\u001b[39m\"\u001b[39m\u001b[39merror\u001b[39m\u001b[39m\"\u001b[39m])\n\u001b[0;32m    172\u001b[0m \u001b[39m# NULL_RESPONSES includes None, so return False here as the default\u001b[39;00m\n\u001b[0;32m    173\u001b[0m \u001b[39m# so we don't apply the null_result_formatters if there is no 'result' key\u001b[39;00m\n\u001b[0;32m    174\u001b[0m \u001b[39melif\u001b[39;00m response\u001b[39m.\u001b[39mget(\u001b[39m'\u001b[39m\u001b[39mresult\u001b[39m\u001b[39m'\u001b[39m, \u001b[39mFalse\u001b[39;00m) \u001b[39min\u001b[39;00m NULL_RESPONSES:\n\u001b[0;32m    175\u001b[0m     \u001b[39m# null_result_formatters raise either a BlockNotFound\u001b[39;00m\n\u001b[0;32m    176\u001b[0m     \u001b[39m# or a TransactionNotFound error, depending on the method called\u001b[39;00m\n",
      "\u001b[1;31mValueError\u001b[0m: {'code': -32000, 'message': 'already known'}"
     ]
    }
   ],
   "source": []
  },
  {
   "cell_type": "code",
   "execution_count": null,
   "metadata": {},
   "outputs": [],
   "source": []
  },
  {
   "cell_type": "code",
   "execution_count": null,
   "metadata": {},
   "outputs": [],
   "source": []
  }
 ],
 "metadata": {
  "kernelspec": {
   "display_name": "Python 3",
   "language": "python",
   "name": "python3"
  },
  "language_info": {
   "codemirror_mode": {
    "name": "ipython",
    "version": 3
   },
   "file_extension": ".py",
   "mimetype": "text/x-python",
   "name": "python",
   "nbconvert_exporter": "python",
   "pygments_lexer": "ipython3",
   "version": "3.10.9"
  },
  "orig_nbformat": 4,
  "vscode": {
   "interpreter": {
    "hash": "26de051ba29f2982a8de78e945f0abaf191376122a1563185a90213a26c5da77"
   }
  }
 },
 "nbformat": 4,
 "nbformat_minor": 2
}
